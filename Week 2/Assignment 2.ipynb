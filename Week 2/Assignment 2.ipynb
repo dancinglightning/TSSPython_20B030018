{
  "nbformat": 4,
  "nbformat_minor": 0,
  "metadata": {
    "colab": {
      "name": "Pairs.ipynb",
      "provenance": [],
      "collapsed_sections": []
    },
    "kernelspec": {
      "name": "python3",
      "display_name": "Python 3"
    },
    "language_info": {
      "name": "python"
    }
  },
  "cells": [
    {
      "cell_type": "markdown",
      "metadata": {
        "id": "dBmd8kyLfMIg"
      },
      "source": [
        "## Paired Switching\n",
        "\n",
        "The idea behind this strategy is that if the assets are negatively correlated, then a traditional mixed portfolio might lead to a lower return than the return for the individual assets.\n",
        "\n",
        "We periodically compute the Co-relation Coefficients' Matrix and choose pair of stocks which have the most negative co-relations and trade in them. The basic idea being that if one of them would fall, then the other would rise and hence, we must switch between them!\n",
        "\n",
        "We need a re-balancing period ,i.e. The time after which we would be again calculating the co-relations and taking a different pair of stocks : **T**\n",
        "\n",
        "We would also need to keep switching between these selected stocks in a pair at a certain interval of time : **P**\n",
        "\n",
        "Next, We need to specify how many such pairs would we be trading in : **M**\n",
        "\n",
        "The Fraction of the total balance we would be investing on every turn : **R**\n",
        "\n",
        "The Brokerage Fee as a fraction of the total transaction amount : **F**\n",
        "\n"
      ]
    },
    {
      "cell_type": "code",
      "metadata": {
        "id": "KhmpNcaUextd"
      },
      "source": [
        "import numpy as np\n",
        "import pandas as pd\n",
        "import datetime\n",
        "import matplotlib.pyplot as plt\n",
        "import seaborn as sns\n",
        "\n",
        "T = 60\n",
        "P = 7\n",
        "M = 4\n",
        "R = 0.8\n",
        "F = 0.0005"
      ],
      "execution_count": null,
      "outputs": []
    },
    {
      "cell_type": "markdown",
      "metadata": {
        "id": "6zepnFA0xjvI"
      },
      "source": [
        "### Few Upcoming Functions(GetData and PartitionData) would be similar to the ones you encountered in the Momentum Assignment (Feel free to Copy-Paste your code from there!)"
      ]
    },
    {
      "cell_type": "markdown",
      "metadata": {
        "id": "YZQH1NuRyGLy"
      },
      "source": [
        "In the file DATA.csv , which we had uploaded in our repository, we have prices of 30 firms enlisted in S & P 500 Index (Apple, IBM, Cisco, Walmart and the like!) from 2nd January 2009 to 17th August 2020.\n",
        "\n",
        "For our purposes, We'll only be requiring certain columns. On an honest note, Just getting the Columns on Ticker, Date and Adjusted Closing Price would do the job, but if you want, you may take Opening Price as well.\n",
        "\n",
        "Read up about the [pandas.read_csv](https://pandas.pydata.org/docs/reference/api/pandas.read_csv.html) function from here, and figure out how you'll use it to do the job (You don't need all the columns!) "
      ]
    },
    {
      "cell_type": "code",
      "metadata": {
        "id": "Ka_L9Ne6yOGY"
      },
      "source": [
    "def GetData(NameOfFile):\n",
    "  #START CODE HERE\n",
    "  file=pd.read_csv(NameOfFile,usecols=[\"datadate\",\"tic\",\"adjcp\"])\n",
    "  return(file)  # pd.DataFrame Object"
   ],
      "execution_count": null,
      "outputs": []
    },
    {
      "cell_type": "markdown",
      "metadata": {
        "id": "xJILaZUYySQW"
      },
      "source": [
        "To aid Data-Manipulation, it would be beneficial, if we split the DataFrame into many small parts each corresponding to the data corresponding to the 30 Tickers on a particular date. These small parts could then be stored in a list.\n",
        "\n",
        "We would also be needing to remember which date is at what index, so that we can use that later. "
      ]
    },
    {
      "cell_type": "code",
      "metadata": {
        "id": "I0jUbPe_yiGU"
      },
      "source": [
    "def PartitionData(data):\n",
    "    DateToIndex = {}\n",
    "    k=0\n",
    "    #DateToIndex[20090102]=[]\n",
    "    #print(DateToIndex)\n",
    "    for index,row in data.iterrows():\n",
    "        date=data.datadate[index]\n",
    "        \n",
    "        if date in DateToIndex.keys():\n",
    "            pass\n",
    "            #DateToIndex[date].append(index)\n",
    "        else:\n",
    "            DateToIndex[date]=k\n",
    "            k+=1\n",
    "            #DateToIndex[date]=[index]\n",
    "    partitionedlist=[]\n",
    "    for i in DateToIndex.keys():\n",
    "        df1 = data[data['datadate'] == i]\n",
    "        partitionedlist.append(df1)\n",
    "    \n",
    "    return [partitionedlist,DateToIndex] # List containing of the Data Partitioned according to Date, and the Dictionary mapping Dates to their index in the list  \n",
    "\n",
    "\n",
   ],
      "execution_count": null,
      "outputs": []
    },
    {
      "cell_type": "markdown",
      "metadata": {
        "id": "abBu6bdrqpcD"
      },
      "source": [
        "Now, We need a function which takes as input a pair of stocks (as indices in range 0-29), Today's date,  alongwith the Partitioned DataFrames which will tell us which of the two stocks has a better outlook for the future, and we'll simply move all our Money from one of them to the other. \n",
        "\n",
        "This will be done once in every **P** trading sessions.\n",
        "\n",
        "You could choose between the two stocks in a number of ways, the simplest of which can be what you did in the last assignment, the Momentum Indicator (i.e. Take the difference between the prices of the stocks in a certain number of days and do your deed! Remember this number of days **N** must be <= **T**)\n",
        "\n",
        "You may also use other indicators like [RSI](https://www.investopedia.com/terms/r/rsi.asp), [Stochs](https://www.investopedia.com/terms/s/stochasticoscillator.asp), [MACD](https://www.investopedia.com/terms/m/macd.asp) or anything else! (If you decide to use MACD or RSI, you could either implement other functions to calculate them or simply change your ParitionData() function to get the MACD and RSI values as they are already stored there for you!)\n",
        "\n",
        "You need not worry about getting the nearest dates (or dates at all) in this case, because all you care about is co-relations in long term and growth in short-term so it doesn't matter if you're ahead or behind a few days!\n",
        "\n",
        "'today' would be an index(integer), i.e. an index on the PartitionedDataFrames list denoting where we are at currently!\n",
        "\n",
        "Also, as you may have figured it out yourself, while DataFrames are great for Data Handling and small statistical calculations, They aren't so for big calculations as the Numpy Library has both a richer variety of functions for such manipulations and is also more efficient!\n"
      ]
    },
    {
      "cell_type": "code",
      "metadata": {
        "id": "hUViRxVXwrB5"
      },
      "source": [
    "def Switch(PartitionedDataFrameList, DateToIndex ,today):\n",
    "  # PartitionedDataFrameList : Pandas DataFrame, The Output of your last function\n",
    "  # DateToIndex : Dictionary mapping dates to their index in the PartitionedDataFrameList\n",
    "  # today :  Today's date (string) In Format: YYYYMMDD\n",
    "\n",
    "\n",
    "  #NdaysAgo is a datatime.date() object contining the required data, you need to convert it to a string and then check if its\n",
    "  #actually there in the Data you have or will you have to get going using some other nearest date\n",
    "    dateformatted=[]\n",
    "    for i in DateToIndex.keys():\n",
    "        i=str(i)\n",
    "        a = datetime.date(int(i[0:4]),int(i[4:6]),int(i[6:]))\n",
    "        dateformatted.append(a)\n",
    "    NdaysAgo = datetime.date(int(today[0:4]),int(today[4:6]),int(today[6:])) + datetime.timedelta(days = -N)\n",
    "    near=min(dateformatted, key=lambda x: abs(x - NdaysAgo))\n",
    "    nearint = int(near.strftime('%Y%m%d'))\n",
    "    todayint= int(today)\n",
    "    #START CODE HERE!\n",
    "    now=np.array(PartitionedDataFrameList[DateToIndex[todayint]][\"adjcp\"])\n",
    "    ago=np.array(PartitionedDataFrameList[DateToIndex[nearint]][\"adjcp\"])\n",
    "    momentum = now-ago\n",
    "    \n",
    "    #mean\n",
    "    tot=np.zeros(30)\n",
    "    values=[]\n",
    "    for i in range(DateToIndex[nearint],DateToIndex[todayint]+1):\n",
    "        arr=np.array(PartitionedDataFrameList[i][\"adjcp\"])\n",
    "        values.append(arr)\n",
    "        \n",
    "        tot=tot+arr\n",
    "    mean=tot/(DateToIndex[todayint]+1-DateToIndex[nearint])\n",
    "    final=momentum/mean\n",
    "    \n",
    "    \n",
    "    \n",
    "    return(final) # Numpy Array containing the Momentum divided by mean(in the N-day period considered) of all the 30 tickers, in the required order.\n",
    "    \n",
    "    \n",
    "\n",
    "\n"
   ],
      "execution_count": null,
      "outputs": []
    },
    {
      "cell_type": "markdown",
      "metadata": {
        "id": "CBZqJ_CszZbL"
      },
      "source": [
        "Now, We need something to simulate our [Portfolio](https://www.investopedia.com/terms/p/portfolio.asp). In order to do that we need a class, which has certain  basic features and functionalities.\n",
        "\n",
        "(Again some of the functions here, would be same as the previous assignment, so feel free to Copy-Paste)\n",
        "\n",
        "Features : \n",
        "\n",
        "\n",
        "1.   Your Initial Balance\n",
        "2.   Your Current Balance (Money which isn't invested!)\n",
        "3.   A list(/any other container) storing the number of stocks of each ticker currently in possession. (Numpy Array prefered)\n",
        "4.   Most recent prices of all the stocks (As a Numpy array)\n",
        "5.   A list of **M** or less(as it might be that less than **M** stocks are negatively co-related) Tuples of indices (i,j) where i and j are the indices (from 0-29) of stocks which are negatively co-related.\n",
        "\n",
        "Functionalities: \n",
        "\n",
        "\n",
        "\n",
        "1.   Calculating current Net Worth (Balance+Total Evaluation of all Stocks owned!) \n",
        "2.   Buying a Particular Stock (Keep the Transaction fee in mind!)\n",
        "3.   Selling a particular Stock whole (Keep the Transaction Fee in mind!)\n",
        "4.   Change Pairs (**T** period intervals) (Takes PartitionedDataFrame, DateT and today's date as input)\n",
        "5.   Rebalance Portfolio (**P** period intervals) (Takes O)\n",
        "6.   Function to change the value of most recent prices stored (Takes Numpy array as input)\n",
        "\n",
        "\n",
        "You may want to know about Numpy's Corrcoef ([np.corrcoef](https://numpy.org/doc/stable/reference/generated/numpy.corrcoef.html)) function!\n"
      ]
    },
    {
      "cell_type": "code",
      "metadata": {
        "id": "SFJOHvgS1aq0"
      },
      "source": [
    "class PortFolio:\n",
    "    def __init__(self, inibal, currbal, currshares, recprices):\n",
    "        self.inibal = inibal\n",
    "        self.currbal = currbal\n",
    "        self.currshares = currshares\n",
    "        self.recprices = recprices\n",
    "\n",
    "    def SellStock(self,index):\n",
    "        self.currbal = self.currbal + (self.recprices[index] * self.currshares[index]) *(1-F)\n",
    "        self.currshares[index] = 0\n",
    "\n",
    "    def BuyStock(self,index, number):\n",
    "        self.currbal = self.currbal - (self.recprices[index] * number) * (1+F)\n",
    "        self.currshares[index] = self.currshares[index] + number\n",
    "\n",
    "    def CalculateNetWorth(self):\n",
    "        return (self.currbal + np.sum(self.currshares * self.recprices))\n",
    "\n",
    "    def ChangePricesTo(self,newPriceVector):\n",
    "        self.recprices = newPriceVector\n",
    "\n",
    "    def RebalancePortFolio(self,newWeights):\n",
    "        #print(newWeights)\n",
    "        for i in range(0, 30):\n",
    "            self.SellStock(i)\n",
    "            if newWeights[i] < 0:\n",
    "                newWeights[i] = 0\n",
    "        b=np.sort(newWeights)\n",
    "        d=np.flipud(b)\n",
    "        #print(b)\n",
    "        a=d[M-1]\n",
    "        c=newWeights>=a\n",
    "        #print(c)\n",
    "        newWeights=newWeights*c\n",
    "        #print(b)\n",
    "        #print(self.recprices)\n",
    "        #print(newwt)\n",
    "        #print(b)\n",
    "        #print(self.recprices)\n",
    "        #print(self.currbal)\n",
    "        share = GetBalanced(self.recprices, newWeights, self.currbal)\n",
    "        \n",
    "        for i in range(0, 30):\n",
    "            self.BuyStock(i, share[i])\n",
    "   \n",
    "\n",
    "\n"
   ],
      "execution_count": null,
      "outputs": []
    },
    {
      "cell_type": "markdown",
      "metadata": {
        "id": "S2Sv0OPB6QiL"
      },
      "source": [
        "With that the difficult part is over!\n",
        "\n",
        "Now, all you need to work on is a main loop, which calls all these functions"
      ]
    },
    {
      "cell_type": "code",
      "metadata": {
        "id": "8qTWYyDn6mjt"
      },
      "source": [
    "Data = GetData(\"Data.csv\")\n",
    "PartitionedData, DateToIndex= PartitionData(Data)\n",
    "\n",
    "\n",
    "print(\"Input initial balance\")\n",
    "bal=int(input())\n",
    "#print(np.array(PartitionedData[0][\"adjcp\"]))\n",
    "myPortfolio = PortFolio(bal,R*bal,np.zeros(30),np.array(PartitionedData[0][\"adjcp\"]))\n",
    "NetWorthAfterEachTrade = myPortfolio.CalculateNetWorth()\n",
    "'''print(myPortfolio.inibal)\n",
    "print(myPortfolio.currbal)\n",
    "print(myPortfolio.currshares)\n",
    "print(myPortfolio.recprices)'''\n",
    "\n",
    "\n",
    "base=str(list(DateToIndex.keys())[list(DateToIndex.values()).index(0)])\n",
    "#First Get the Data\n",
    "dateformatted=[]\n",
    "for i in DateToIndex.keys():\n",
    "    i=str(i)\n",
    "    a = datetime.date(int(i[0:4]),int(i[4:6]),int(i[6:]))\n",
    "    dateformatted.append(a)\n",
    "day = datetime.date(int(base[0:4]),int(base[4:6]),int(base[6:])) + datetime.timedelta(days = +(N+1))\n",
    "near = min(dateformatted, key=lambda x: abs(x - day))\n",
    "nearint = int(near.strftime('%Y%m%d'))\n",
    "                                                                                    #\n",
    "networth=[]\n",
    "k=0\n",
    "\n",
    "#Start processing from the (N+1)th Day(among the ones recorded in the Data)\n",
    "for i in range(DateToIndex[nearint],len(PartitionedData)):\n",
    "    #print(np.array(PartitionedData[i][\"datadate\"]))\n",
    "    myPortfolio.ChangePricesTo(np.array(PartitionedData[i][\"adjcp\"]))\n",
    "  # Change the Prices to the ith Term\n",
    "    networth.append(myPortfolio.CalculateNetWorth())\n",
    "  # Get NetWorth and store in list\n",
    "    flag=False\n",
    "    #print(myPortfolio.currbal)\n",
    "    #print(myPortfolio.currshares)\n",
    "    #print(GetMomentumBasedPriority(PartitionedData,DateToIndex,str(list(DateToIndex.keys())[list(DateToIndex.values()).index(i)])))\n",
    "    if (i % T) == 0:\n",
    "        #print(i)\n",
    "        myPortfolio.RebalancePortFolio(GetMomentumBasedPriority(PartitionedData,DateToIndex,str(list(DateToIndex.keys())[list(DateToIndex.values()).index(i)])))\n",
    "  # Check if you need to rebalance Portfolio's Today\n",
    "    \n",
    "  # If so, do it by Calling first the GetMomentumBasedPriority function and then passing it to the rebalance function\n",
    "#print(networth)\n",
    "#print(DateToIndex)\n",
    "VizualizeData(networth)"
   ],
      "execution_count": null,
      "outputs": []
    },
    {
      "cell_type": "markdown",
      "metadata": {
        "id": "kwewPN3O6yIF"
      },
      "source": [
        "You may need to declare the PartitionedData list global, depending on your implementation of the Above snippet as well as the various functions in the Portfolio class."
      ]
    },
    {
      "cell_type": "markdown",
      "metadata": {
        "id": "7JBJY3YU7M2C"
      },
      "source": [
        "##Moment of Truth\n",
        "\n",
        "Time to check, if your Program actually works!\n",
        "\n",
        "Plot the data you collected in various ways (Profits, PercentageProfits etc.) and see if what you did worked!\n",
        "\n",
        "Feel free to use whichever one of Matplotlib or Seaborn you want to.\n",
        "\n",
        "Feel free to copy-paste your code from the previous assignment!"
      ]
    },
    {
      "cell_type": "code",
      "metadata": {
        "id": "lPQny8RK7tmN"
      },
      "source": [
    "def VizualizeData(networth):\n",
    "    xpoints = np.arange(len(networth))\n",
    "    ypoints = np.array(networth)\n",
    "\n",
    "    plt.plot(xpoints, ypoints)\n",
    "    plt.show()\n",
    "    \n",
    "\n",
    "\n",
    "\n",
    "\n",
    "\n",
    "\n",
    "\n",
    "\n",
    "\n",
    "  "
   ],
      "execution_count": null,
      "outputs": []
    },
    {
      "cell_type": "markdown",
      "metadata": {
        "id": "lsAUyiuk9r6v"
      },
      "source": [
        "You may use this cell to write about your results/performance of the model!"
      ]
    }
  ]
}
